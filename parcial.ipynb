{
  "nbformat": 4,
  "nbformat_minor": 0,
  "metadata": {
    "colab": {
      "provenance": []
    },
    "kernelspec": {
      "name": "python3",
      "display_name": "Python 3"
    },
    "language_info": {
      "name": "python"
    }
  },
  "cells": [
    {
      "cell_type": "code",
      "execution_count": 1,
      "metadata": {
        "id": "1ebw3-aMcWOn"
      },
      "outputs": [],
      "source": [
        "import pandas as pd\n",
        "import numpy as np\n"
      ]
    },
    {
      "cell_type": "code",
      "source": [
        "#1\n",
        "\n",
        "df_emicron = pd.read_csv(\"https://github.com/niconomist98/DataAnalyticsUQ/raw/refs/heads/main/Datos/EMICRON/emicron_identificacion.csv\", encoding=\"latin\", sep=\",\")\n",
        "total = df_emicron[\"F_EXP\"].sum()\n",
        "print(\"Micronegocios en colombia:\", int(total))\n",
        "micronegqui = df_emicron[(df_emicron[\"COD_DEPTO\"] == 63) & (df_emicron[\"P35\"] == 1) & (df_emicron[\"P241\"].between(18, 30))]\n",
        "micronegqui18_30 = micronegqui[\"F_EXP\"].sum()\n",
        "print(f\"En el Quindío los hombres de 18 a 30 años son dueños de :\", int(micronegqui18_30))"
      ],
      "metadata": {
        "colab": {
          "base_uri": "https://localhost:8080/"
        },
        "id": "HmcGnWGxcoWx",
        "outputId": "5ad10f9c-1cac-4ec6-aa61-75b9aa15befb"
      },
      "execution_count": 2,
      "outputs": [
        {
          "output_type": "stream",
          "name": "stdout",
          "text": [
            "Micronegocios en colombia: 5297251\n",
            "En el Quindío los hombres de 18 a 30 años son dueños de : 1929\n"
          ]
        }
      ]
    },
    {
      "cell_type": "code",
      "source": [
        "#2\n",
        "\n",
        "manufacturasmr = df_emicron[(df_emicron[\"COD_DEPTO\"] == 66) & (df_emicron[\"P35\"] == 2) & (df_emicron[\"P241\"].between(20, 30)) &\n",
        "                                  (df_emicron['GRUPOS4'] == 2)]\n",
        "total_microMFR = manufacturasmr[\"F_EXP\"].sum()\n",
        "print(f\"en la industria manufacturera de Risaralda las mujeres entre los 20 y 30 son dueños de:\", int(total_microMFR))"
      ],
      "metadata": {
        "colab": {
          "base_uri": "https://localhost:8080/"
        },
        "id": "ndJPxCprctOj",
        "outputId": "224bda14-54a0-4a65-b49f-4890948ad8c3"
      },
      "execution_count": 3,
      "outputs": [
        {
          "output_type": "stream",
          "name": "stdout",
          "text": [
            "en la industria manufacturera de Risaralda las mujeres entre los 20 y 30 son dueños de: 471\n"
          ]
        }
      ]
    },
    {
      "cell_type": "code",
      "source": [
        "#3\n",
        "\n",
        "micronegocioPM40 = df_emicron[(df_emicron[\"AREA\"] == 66) & (df_emicron[\"P35\"] == 2) & (df_emicron[\"P241\"] > 40) &\n",
        "                                  (df_emicron['GRUPOS4'] == 3)]\n",
        "total_microPM40 = micronegocioPM40['F_EXP'].sum()\n",
        "print(f'Los micronegocios de Pereira de mujeres mayores de 40:', int(total_microPM40))\n",
        "\n",
        "micronegocioAM40 = df_emicron[(df_emicron[\"AREA\"] == 63) & (df_emicron[\"P35\"] == 2) & (df_emicron[\"P241\"] > 40) &\n",
        "                                  (df_emicron['GRUPOS4'] == 3)]\n",
        "total_microAM40= micronegocioAM40['F_EXP'].sum()\n",
        "print(f'Los micronegocios de Armenia de mujeres mayores de 40:', int(total_microAM40))\n",
        "\n",
        "micronegocioMM40 = df_emicron[(df_emicron[\"AREA\"] == 17) & (df_emicron[\"P35\"] == 2) & (df_emicron[\"P241\"] > 40) &\n",
        "                                  (df_emicron['GRUPOS4'] == 3)]\n",
        "\n",
        "total_microMM40 = micronegocioMM40['F_EXP'].sum()\n",
        "print(f'Los micronegocios de Manizales de mujeres mayores de 40:', int(total_microMM40))\n",
        "print()\n",
        "print(f'La ciudad del eje cafetero que tiene mas micronegocios con dueñas mayores a 40 años es PEREIRA')"
      ],
      "metadata": {
        "colab": {
          "base_uri": "https://localhost:8080/"
        },
        "id": "o94U9KBSdDoW",
        "outputId": "74accc3b-372d-4ec1-c5b8-79bf5042bea4"
      },
      "execution_count": 4,
      "outputs": [
        {
          "output_type": "stream",
          "name": "stdout",
          "text": [
            "Los micronegocios de Pereira de mujeres mayores de 40: 3827\n",
            "Los micronegocios de Armenia de mujeres mayores de 40: 2557\n",
            "Los micronegocios de Manizales de mujeres mayores de 40: 2636\n",
            "\n",
            "La ciudad del eje cafetero que tiene mas micronegocios con dueñas mayores a 40 años es PEREIRA\n"
          ]
        }
      ]
    },
    {
      "cell_type": "code",
      "source": [
        "#4\n",
        "\n",
        "nombre_comercial= df_emicron[(df_emicron[\"AREA\"] == 63) & (df_emicron[\"P35\"] == 1) & (df_emicron[\"P3035\"] == 2)]\n",
        "total_micronc = nombre_comercial['F_EXP'].sum()\n",
        "print(f'En Armenia hay un total de', int(total_micronc), f'micronegocios de propietarios hombres que no tiene nombre comercial')"
      ],
      "metadata": {
        "colab": {
          "base_uri": "https://localhost:8080/"
        },
        "id": "vIIPsqSOdHqP",
        "outputId": "c7894e34-5aa7-4437-e8cc-a53aace8f156"
      },
      "execution_count": 5,
      "outputs": [
        {
          "output_type": "stream",
          "name": "stdout",
          "text": [
            "En Armenia hay un total de 11603 micronegocios de propietarios hombres que no tiene nombre comercial\n"
          ]
        }
      ]
    }
  ]
}